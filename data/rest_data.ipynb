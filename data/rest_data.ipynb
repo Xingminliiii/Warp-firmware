{
 "cells": [
  {
   "cell_type": "code",
   "execution_count": 3,
   "metadata": {},
   "outputs": [
    {
     "name": "stdout",
     "output_type": "stream",
     "text": [
      "Mean Values: X_g   -0.000502\n",
      "Y_g   -0.000446\n",
      "Z_g   -0.001218\n",
      "dtype: float64\n",
      "Standard Deviation Values: X_g    0.002305\n",
      "Y_g    0.002214\n",
      "Z_g    0.009042\n",
      "dtype: float64\n"
     ]
    }
   ],
   "source": [
    "import pandas as pd\n",
    "\n",
    "# Reading the rest data from the accelerometer\n",
    "file_path_rest = '/Users/lixingmin/Warp-firmware/data/rest_data.csv'  # Replace with your actual file path\n",
    "df_rest = pd.read_csv(file_path_rest, header=None)  # Adjust this if your file has a different format\n",
    "\n",
    "# Assuming the last three columns are the X, Y, and Z acceleration counts for the MMA8451Q in the 8g setting\n",
    "# Convert these counts to acceleration in g's\n",
    "conversion_factor = 2 / 8192  # Adjust this based on your accelerometer's settings\n",
    "df_rest[['X_g', 'Y_g', 'Z_g']] = df_rest * conversion_factor\n",
    "\n",
    "# Calculate the mean and standard deviation for each axis\n",
    "mean_values = df_rest[['X_g', 'Y_g', 'Z_g']].mean()\n",
    "std_dev_values = df_rest[['X_g', 'Y_g', 'Z_g']].std()\n",
    "\n",
    "# Print the mean and standard deviation\n",
    "print('Mean Values:', mean_values)\n",
    "\n",
    "print('Standard Deviation Values:', std_dev_values)\n"
   ]
  }
 ],
 "metadata": {
  "kernelspec": {
   "display_name": "lab",
   "language": "python",
   "name": "python3"
  },
  "language_info": {
   "codemirror_mode": {
    "name": "ipython",
    "version": 3
   },
   "file_extension": ".py",
   "mimetype": "text/x-python",
   "name": "python",
   "nbconvert_exporter": "python",
   "pygments_lexer": "ipython3",
   "version": "3.11.5"
  }
 },
 "nbformat": 4,
 "nbformat_minor": 2
}
